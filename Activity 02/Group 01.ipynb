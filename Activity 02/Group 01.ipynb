{
 "cells": [
  {
   "cell_type": "markdown",
   "id": "47106757",
   "metadata": {},
   "source": [
    "## Q1\n",
    "\n",
    "Write a program to display the fibonacci sequences up to $n^\\text{th}$ term where $n$ is provided by the user.\n",
    "\n",
    "*__Answer__*"
   ]
  },
  {
   "cell_type": "markdown",
   "id": "369ce6a4",
   "metadata": {},
   "source": [
    "## Q2\n",
    "\n",
    " Write a program to repeatedly check for the largest number until the user enters ''done''.\n",
    "\n",
    "*__Answer__*"
   ]
  },
  {
   "cell_type": "markdown",
   "id": "d54422c7",
   "metadata": {},
   "source": [
    "## Q3\n",
    "\n",
    " Write a program to find the sum of all Odd and Even numbers up to a number specified by the user.\n",
    "\n",
    "*__Answer__*"
   ]
  },
  {
   "cell_type": "markdown",
   "id": "ab9a9b3f",
   "metadata": {},
   "source": [
    "## Q4\n",
    "\n",
    " Explain the need for \\verb\"continue\" and \\verb\"break\" statements. Write a program to check whether a number is prime or not. Prompt the user for input.\n",
    "\n",
    "*__Answer__*"
   ]
  },
  {
   "cell_type": "markdown",
   "id": "214ffc5c",
   "metadata": {},
   "source": [
    "## Q5\n",
    "\n",
    " Write a program using functions to find the value of $^nP_r$ and $^nC_r$ without using inbuilt \\verb\"factorial()\" function.\n",
    "\n",
    "*__Answer__*"
   ]
  }
 ],
 "metadata": {
  "kernelspec": {
   "display_name": "Python 3",
   "language": "python",
   "name": "python3"
  },
  "language_info": {
   "codemirror_mode": {
    "name": "ipython",
    "version": 3
   },
   "file_extension": ".py",
   "mimetype": "text/x-python",
   "name": "python",
   "nbconvert_exporter": "python",
   "pygments_lexer": "ipython3",
   "version": "3.9.5"
  },
  "latex_envs": {
   "LaTeX_envs_menu_present": true,
   "autoclose": false,
   "autocomplete": true,
   "bibliofile": "biblio.bib",
   "cite_by": "apalike",
   "current_citInitial": 1,
   "eqLabelWithNumbers": true,
   "eqNumInitial": 1,
   "hotkeys": {
    "equation": "Ctrl-E",
    "itemize": "Ctrl-I"
   },
   "labels_anchors": false,
   "latex_user_defs": false,
   "report_style_numbering": false,
   "user_envs_cfg": false
  },
  "toc": {
   "base_numbering": 1,
   "nav_menu": {},
   "number_sections": true,
   "sideBar": true,
   "skip_h1_title": false,
   "title_cell": "Table of Contents",
   "title_sidebar": "Contents",
   "toc_cell": false,
   "toc_position": {},
   "toc_section_display": true,
   "toc_window_display": false
  }
 },
 "nbformat": 4,
 "nbformat_minor": 5
}

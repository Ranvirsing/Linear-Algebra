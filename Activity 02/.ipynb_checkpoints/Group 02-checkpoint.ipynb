{
 "cells": [
  {
   "cell_type": "markdown",
   "id": "21d1bb98",
   "metadata": {},
   "source": [
    "## Q6\n",
    "\n",
    " Write a program to print the sum of the following series $1 + \\frac{1}{2} +\\cdots + \\frac{1}{n}$\n",
    "\n",
    "*__Answer__*"
   ]
  },
  {
   "cell_type": "code",
   "execution_count": 4,
   "id": "afd901fc",
   "metadata": {},
   "outputs": [
    {
     "name": "stdout",
     "output_type": "stream",
     "text": [
      "Enter n :2\n",
      "1.5\n"
     ]
    }
   ],
   "source": [
    "n=int(input(\"Enter n :\"))\n",
    "sum1=0\n",
    "\n",
    "for i in range(n):\n",
    "    sum1=sum1+1/(i+1)\n",
    "    \n",
    "print(sum1)"
   ]
  },
  {
   "cell_type": "markdown",
   "id": "c758352a",
   "metadata": {},
   "source": [
    "## Q7\n",
    "\n",
    " What is the difference between list and tuples in Python?\n",
    "\n",
    "*__Answer__*"
   ]
  },
  {
   "cell_type": "markdown",
   "id": "73fb3287",
   "metadata": {},
   "source": [
    "## Q8\n",
    "\n",
    " How does break, continue and pass work?\n",
    "\n",
    "*__Answer__*"
   ]
  },
  {
   "cell_type": "markdown",
   "id": "de6c4284",
   "metadata": {},
   "source": [
    "## Q9\n",
    "\n",
    " What is a dictionary in Python?\n",
    "\n",
    "*__Answer__*"
   ]
  },
  {
   "cell_type": "markdown",
   "id": "9c650086",
   "metadata": {},
   "source": []
  },
  {
   "cell_type": "markdown",
   "id": "498904ed",
   "metadata": {},
   "source": [
    "## Q10\n",
    "\n",
    " Discuss the following list functions: a) \\verb\"len()\" b) \\verb\"sum()\" c) \\verb\"any()\" d) \\verb\"all()\" e) \\verb\"sorted()\"\n",
    "\n",
    "*__Answer__*"
   ]
  },
  {
   "cell_type": "code",
   "execution_count": null,
   "id": "b0d5ea9b",
   "metadata": {},
   "outputs": [],
   "source": []
  },
  {
   "cell_type": "code",
   "execution_count": null,
   "id": "c9d00540",
   "metadata": {},
   "outputs": [],
   "source": [
    "# OUT of Syllabus"
   ]
  }
 ],
 "metadata": {
  "kernelspec": {
   "display_name": "Python 3",
   "language": "python",
   "name": "python3"
  },
  "language_info": {
   "codemirror_mode": {
    "name": "ipython",
    "version": 3
   },
   "file_extension": ".py",
   "mimetype": "text/x-python",
   "name": "python",
   "nbconvert_exporter": "python",
   "pygments_lexer": "ipython3",
   "version": "3.9.5"
  },
  "latex_envs": {
   "LaTeX_envs_menu_present": true,
   "autoclose": false,
   "autocomplete": true,
   "bibliofile": "biblio.bib",
   "cite_by": "apalike",
   "current_citInitial": 1,
   "eqLabelWithNumbers": true,
   "eqNumInitial": 1,
   "hotkeys": {
    "equation": "Ctrl-E",
    "itemize": "Ctrl-I"
   },
   "labels_anchors": false,
   "latex_user_defs": false,
   "report_style_numbering": false,
   "user_envs_cfg": false
  },
  "toc": {
   "base_numbering": 1,
   "nav_menu": {},
   "number_sections": true,
   "sideBar": true,
   "skip_h1_title": false,
   "title_cell": "Table of Contents",
   "title_sidebar": "Contents",
   "toc_cell": false,
   "toc_position": {},
   "toc_section_display": true,
   "toc_window_display": false
  }
 },
 "nbformat": 4,
 "nbformat_minor": 5
}
